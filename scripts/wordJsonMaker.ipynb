{
 "cells": [
  {
   "cell_type": "markdown",
   "metadata": {},
   "source": [
    "# Word Json Maker\n",
    "\n",
    "This script will make a json file including all the words with certain amount of numbers letters.\n",
    "\n",
    "This script scrapes the site : http://www.findallwords.com/wordfinder_index_fi.php?unumber=8&umaxl=equal&utitle=Sanat%208%20kirjainta"
   ]
  },
  {
   "cell_type": "code",
   "execution_count": 1,
   "metadata": {},
   "outputs": [],
   "source": [
    "import numpy as np\n",
    "import bs4\n",
    "from urllib.request import urlopen as uReq\n",
    "from bs4 import BeautifulSoup as soup\n",
    "import re"
   ]
  },
  {
   "cell_type": "code",
   "execution_count": 2,
   "metadata": {},
   "outputs": [],
   "source": [
    "def fecthSite(letter):\n",
    "    '''Fetches find all words site. Takes in a parameter letter that defines what page it fetches'''\n",
    "    base_word_url = \"http://www.findallwords.com/wordfinder_index_fi.php?ulast=&umaxl=equal&unumber=4&umatch=&ucontain=&ufname=&ufirst=\"\n",
    "    uClient = uReq( base_word_url + str(letter))\n",
    "    page_html = uClient.read()\n",
    "    uClient.close()\n",
    "    return page_html"
   ]
  },
  {
   "cell_type": "code",
   "execution_count": 3,
   "metadata": {},
   "outputs": [],
   "source": [
    "page_html = fecthSite(\"\")\n",
    "#page_html\n",
    "page_soup = soup(page_html, 'html.parser')\n",
    "#page_soup"
   ]
  },
  {
   "cell_type": "code",
   "execution_count": 4,
   "metadata": {},
   "outputs": [
    {
     "data": {
      "text/plain": [
       "[<p><h2>4 kirjaimet:</h2><font size=\"6\">aamu<br>aapa<br>aari<br>aasi<br>aate<br>aava<br>aave<br>afro<br>afta<br>agar<br>ahaa<br>ahde<br>ahjo<br>ahma<br>ahne<br>ahti<br>ahti<br>aids<br>aihe<br>aika<br>aika<br/>aimo<br/>aina<br/>aina<br/>aine<br/>aino<br/>ainu<br/>airo<br/>aisa<br/>aita<br/>aito<br/>aivo<br/>ajaa<br/>ajos<br/>akka<br/>akku<br/>akne<br/>akti<br/>alas<br/>alba<br/>alfa<br/>alho<br/>alin<br/>alku<br/>alla<br/>alle<br/>alli<br/>alli<br/>almu<br/>alpi<br/>alta<br/>alue<br/>alun<br/>alus<br/>amme<br/>ammu<br/>amok<br/>ampu<br/>anis<br/>anoa<br/>ansa<br/>anti<br/>anti<br/>anto<br/>apea<br/>appi<br/>apro<br/>arho<br/>arka<br/>arki<br/>armo<br/>arpa<br/>arpi<br/>arvo<br/>asia<br/>aski<br/>aspi<br/>aste<br/>asti<br/>asua<br/>atto<br/>auer<br/>auki<br/>aula<br/>auma<br/>aura<br/>aura<br/>auto<br/>auvo<br/>avec<br/>avio<br/>baba<br/>baby<br/>beat<br/>bebe<br/>bodi<br/>brie<br/>budo<br/>bugi<br/>byte<br/></br></br></br></br></br></br></br></br></br></br></br></br></br></br></br></br></br></br></br></br></font><br/>Enintään 100 sanaa<br/><br/>\n",
       " </p>]"
      ]
     },
     "execution_count": 4,
     "metadata": {},
     "output_type": "execute_result"
    }
   ],
   "source": [
    "word_component = page_soup.find(\"table\").find(\"table\").select(\"td > p:nth-of-type(1)\")\n",
    "word_component"
   ]
  },
  {
   "cell_type": "code",
   "execution_count": 5,
   "metadata": {},
   "outputs": [],
   "source": [
    "finnish_alphabet = [\"a\",\"b\",\"c\",\"d\",\"e\",\"f\",\"g\",\"h\",\"i\",\"j\",\"k\",\"l\",\"m\",\"n\",\"o\",\"p\",\"q\",\"r\",\"s\",\"t\",\"u\",\"v\",\"w\",\"x\",\"y\",\"z\",\"å\",\"ä\",\"ö\"]"
   ]
  },
  {
   "cell_type": "code",
   "execution_count": 6,
   "metadata": {},
   "outputs": [],
   "source": [
    "def getWords(current_letters, site):\n",
    "    word_component = site.find(\"table\").find(\"table\").select(\"td > p:nth-of-type(1)\")\n",
    "\n",
    "    all_words = re.findall(\"(?<=</strong>)(.*?)(?=<)\", str(word_component))\n",
    "    all_words = ['{letter}{0}'.format(i, letter = current_letters) for i in all_words]\n",
    "    return all_words"
   ]
  },
  {
   "cell_type": "code",
   "execution_count": 7,
   "metadata": {},
   "outputs": [],
   "source": [
    "def listToJsonArray(word_List, key):\n",
    "    json_array = '\"{letter}\":['.format(letter = key)\n",
    "    \n",
    "    i = 0\n",
    "    for word in word_List:\n",
    "        i = i + 1 \n",
    "        if(len(word_List) == i):\n",
    "            json_array = json_array + '\"{wrd}\"'.format(wrd = word) \n",
    "        else:\n",
    "            json_array = json_array + '\"{wrd}\",'.format(wrd = word)\n",
    "    json_array = json_array + '],'\n",
    "        \n",
    "    return json_array"
   ]
  },
  {
   "cell_type": "code",
   "execution_count": 8,
   "metadata": {},
   "outputs": [
    {
     "name": "stdout",
     "output_type": "stream",
     "text": [
      "\"a\":[\"aamu\",\"aapa\",\"aari\",\"aasi\",\"aate\",\"aava\",\"aave\",\"afro\",\"afta\",\"agar\",\"ahaa\",\"ahde\",\"ahjo\",\"ahma\",\"ahne\",\"ahti\",\"ahti\",\"aids\",\"aihe\",\"aika\",\"aika\",\"aimo\",\"aina\",\"aina\",\"aine\",\"aino\",\"ainu\",\"airo\",\"aisa\",\"aita\",\"aito\",\"aivo\",\"ajaa\",\"ajos\",\"akka\",\"akku\",\"akne\",\"akti\",\"alas\",\"alba\",\"alfa\",\"alho\",\"alin\",\"alku\",\"alla\",\"alle\",\"alli\",\"alli\",\"almu\",\"alpi\",\"alta\",\"alue\",\"alun\",\"alus\",\"amme\",\"ammu\",\"amok\",\"ampu\",\"anis\",\"anoa\",\"ansa\",\"anti\",\"anti\",\"anto\",\"apea\",\"appi\",\"apro\",\"arho\",\"arka\",\"arki\",\"armo\",\"arpa\",\"arpi\",\"arvo\",\"asia\",\"aski\",\"aspi\",\"aste\",\"asti\",\"asua\",\"atto\",\"auer\",\"auki\",\"aula\",\"auma\",\"aura\",\"aura\",\"auto\",\"auvo\",\"avec\",\"avio\"],\n",
      "\"b\":[\"baba\",\"baby\",\"beat\",\"bebe\",\"bodi\",\"brie\",\"budo\",\"bugi\",\"byte\"],\n",
      "\"c\":[\"chic\",\"city\",\"clou\",\"copy\"],\n",
      "\"d\":[\"data\",\"deka\",\"demo\",\"desi\",\"desi\",\"doku\",\"dödö\",\"dösä\"],\n",
      "\"e\":[\"edam\",\"edes\",\"edus\",\"eeva\",\"ehei\",\"eheä\",\"ehiö\",\"ehjä\",\"ehkä\",\"ehta\",\"ehto\",\"ehyt\",\"eine\",\"eioo\",\"eksa\",\"elin\",\"eliö\",\"elje\",\"elää\",\"emiö\",\"emäs\",\"enin\",\"enne\",\"ensi\",\"entä\",\"enää\",\"epuu\",\"erhe\",\"eriö\",\"ersä\",\"eräs\",\"essu\",\"este\",\"esto\",\"etoa\",\"että\",\"eväs\"],\n",
      "\"f\":[\"fani\",\"feta\",\"fiba\",\"folk\",\"foto\",\"foto\"],\n",
      "\"g\":[\"giga\",\"gini\",\"gnuu\",\"golf\",\"gray\",\"guru\"],\n",
      "\"h\":[\"haja\",\"haje\",\"haju\",\"haka\",\"haka\",\"hake\",\"hako\",\"haku\",\"halu\",\"hame\",\"hana\",\"hara\",\"havu\",\"hede\",\"hela\",\"hela\",\"hele\",\"helo\",\"hely\",\"hepo\",\"hera\",\"hete\",\"heti\",\"hevi\",\"hifi\",\"hiha\",\"hiki\",\"hila\",\"hile\",\"hima\",\"himo\",\"hioa\",\"hitu\",\"hiue\",\"hius\",\"hoku\",\"home\",\"homo\",\"hovi\",\"huhu\",\"huit\",\"huki\",\"hula\",\"humu\",\"hupa\",\"hupi\",\"huti\",\"hutu\",\"huut\",\"huvi\",\"hymy\",\"hynä\",\"hyve\",\"hyvä\",\"häjy\",\"häkä\",\"häly\",\"hämy\",\"häpy\",\"hätä\",\"häät\",\"hölö\",\"hönö\",\"höpö\",\"hötö\"],\n",
      "\"i\":[\"idea\",\"idis\",\"iglu\",\"ihan\",\"ihka\",\"ihme\",\"ihme\",\"ihra\",\"iiri\",\"iisi\",\"ilki\",\"ilma\",\"ilme\",\"ilmi\",\"ilta\",\"ilve\",\"imeä\",\"impi\",\"info\",\"inho\",\"inka\",\"into\",\"inva\",\"ioni\",\"irti\",\"irto\",\"isku\",\"iskä\",\"ismi\",\"itiö\",\"itku\",\"itse\",\"itää\",\"iäti\",\"iätä\"],\n",
      "\"j\":[\"jade\",\"jaha\",\"jako\",\"jalo\",\"jana\",\"jano\",\"jaos\",\"jata\",\"jazz\",\"jehu\",\"jeni\",\"jive\",\"jodi\",\"jojo\",\"joka\",\"joka\",\"joki\",\"joko\",\"joku\",\"jono\",\"jopa\",\"jopi\",\"joro\",\"jota\",\"judo\",\"juju\",\"juku\",\"jumi\",\"juna\",\"juro\",\"jury\",\"just\",\"jyly\",\"jymy\",\"jymy\",\"jyry\",\"jyrä\",\"jyty\",\"jytä\",\"jyvä\",\"jämä\",\"jänö\",\"jäte\",\"jörö\"],\n",
      "\"k\":[\"kade\",\"kait\",\"kaje\",\"kajo\",\"kaki\",\"kaks\",\"kala\",\"kale\",\"kali\",\"kalu\",\"kama\",\"kamu\",\"kana\",\"kani\",\"kani\",\"kapi\",\"kara\",\"kare\",\"kari\",\"karu\",\"kasa\",\"kasi\",\"kate\",\"kato\",\"katu\",\"keho\",\"kehu\",\"kehä\",\"keko\",\"kela\",\"keli\",\"kelo\",\"kera\",\"kero\",\"kerä\",\"kesy\",\"kesä\",\"keto\",\"khii\",\"kide\",\"kiho\",\"kihu\",\"kili\",\"kilo\",\"kilo\",\"kilu\",\"kimo\",\"kina\",\"kina\",\"kino\",\"kipu\",\"kiri\",\"kiro\",\"kisa\",\"kisu\",\"kita\",\"kiva\",\"kivi\",\"kiwi\",\"koho\",\"kohu\",\"koje\",\"koju\",\"koko\",\"koko\",\"kola\",\"kolo\",\"komi\",\"kone\",\"koni\",\"kori\",\"koru\",\"kota\",\"koti\",\"koto\",\"koto\",\"kova\",\"kude\",\"kuha\",\"kuin\",\"kuja\",\"kuje\",\"kuka\",\"kuli\",\"kulo\",\"kulu\",\"kumi\",\"kumu\",\"kumu\",\"kupo\",\"kupu\",\"kura\",\"kure\",\"kuri\",\"kuru\",\"kusi\",\"kuta\",\"kuti\",\"kuti\",\"kuti\",\"kutu\",\"kuva\",\"kuve\",\"kyky\",\"kyly\",\"kylä\",\"kymi\",\"kynä\",\"kyse\",\"kytö\"],\n",
      "\"l\":[\"lady\",\"laho\",\"lain\",\"laji\",\"laki\",\"laki\",\"lako\",\"laku\",\"lama\",\"lama\",\"lana\",\"lapa\",\"lape\",\"lari\",\"lari\",\"lasi\",\"lata\",\"lati\",\"lato\",\"latu\",\"lava\",\"ledi\",\"leka\",\"lelu\",\"lemu\",\"lepo\",\"lese\",\"levy\",\"levä\",\"lied\",\"liha\",\"lika\",\"liki\",\"lila\",\"lima\",\"lime\",\"limu\",\"lino\",\"liri\",\"liro\",\"liru\",\"lisä\",\"liti\",\"lito\",\"litu\",\"live\",\"live\",\"logo\",\"lohi\",\"loka\",\"loki\",\"loma\",\"look\",\"loru\",\"lovi\",\"lude\",\"lues\",\"luja\",\"luku\",\"lume\",\"lumi\",\"lumo\",\"lupa\",\"luti\",\"lyly\",\"lähi\",\"läjä\",\"läpi\",\"läpi\",\"läsi\",\"löpö\",\"löpö\"],\n",
      "\"m\":[\"maar\",\"made\",\"maha\",\"maho\",\"main\",\"maja\",\"maku\",\"mali\",\"mana\",\"mana\",\"mani\",\"manu\",\"mari\",\"mars\",\"masi\",\"masu\",\"mato\",\"maya\",\"mega\",\"mehu\",\"mela\",\"melu\",\"meno\",\"menu\",\"meri\",\"mesi\",\"mesu\",\"miau\",\"midi\",\"midi\",\"mies\",\"mikä\",\"mini\",\"mini\",\"minä\",\"miss\",\"misu\",\"mitä\",\"moka\",\"moni\",\"mono\",\"mono\",\"mopo\",\"moro\",\"moro\",\"moto\",\"muka\",\"muki\",\"muli\",\"muna\",\"mura\",\"muro\",\"muru\",\"musa\",\"must\",\"muta\",\"mutu\",\"mutu\",\"myky\",\"myös\",\"mäki\",\"mäsä\",\"mäti\",\"mätä\",\"mökä\",\"möly\"],\n",
      "\"n\":[\"naku\",\"nami\",\"namu\",\"nano\",\"napa\",\"naru\",\"nasu\",\"nata\",\"nato\",\"nega\",\"neli\",\"neli\",\"nenu\",\"nenä\",\"neon\",\"nero\",\"neva\",\"nide\",\"niin\",\"nila\",\"nimi\",\"nisu\",\"nisä\",\"niva\",\"noin\",\"noja\",\"noki\",\"nolo\",\"noro\",\"nova\",\"nuha\",\"nupi\",\"nupo\",\"nupu\",\"nuti\",\"nyky\",\"nysä\",\"näes\",\"näet\",\"näin\",\"näky\",\"näkö\",\"nämä\",\"näpy\",\"näre\",\"närä\",\"nääs\",\"näät\"],\n",
      "\"o\":[\"oboe\",\"ohja\",\"ohje\",\"ohmi\",\"ohoh\",\"ohoi\",\"ohra\",\"ohut\",\"oire\",\"oiva\",\"okei\",\"okra\",\"okra\",\"oksa\",\"olas\",\"olio\",\"olka\",\"olki\",\"olla\",\"olmi\",\"olut\",\"olvi\",\"omia\",\"onki\",\"onni\",\"oodi\",\"opas\",\"oppi\",\"opus\",\"oras\",\"orhi\",\"orja\",\"orpo\",\"orsi\",\"osin\",\"osio\",\"ossi\",\"osto\",\"osua\",\"otin\",\"otos\",\"otsa\",\"otso\",\"otto\",\"otus\",\"outo\",\"ouzo\"],\n",
      "\"p\":[\"paha\",\"pahe\",\"paja\",\"paju\",\"pako\",\"pala\",\"palo\",\"pano\",\"papu\",\"para\",\"pari\",\"pari\",\"pata\",\"pata\",\"pato\",\"patu\",\"peli\",\"peni\",\"peru\",\"perä\",\"peso\",\"pesu\",\"pesä\",\"peta\",\"peti\",\"peto\",\"phui\",\"phyi\",\"pian\",\"piha\",\"pihi\",\"piip\",\"pika\",\"piki\",\"piko\",\"pila\",\"pimu\",\"pino\",\"pipi\",\"pipo\",\"piru\",\"pisi\",\"pisu\",\"pito\",\"pivo\",\"plus\",\"pois\",\"poju\",\"poka\",\"pola\",\"poli\",\"polo\",\"pomo\",\"poni\",\"pora\",\"pore\",\"poro\",\"poro\",\"poru\",\"pose\",\"povi\",\"pubi\",\"puhe\",\"puin\",\"pujo\",\"puku\",\"pula\",\"puli\",\"puli\",\"puli\",\"pulu\",\"puna\",\"pune\",\"punk\",\"pupu\",\"puro\",\"puru\",\"pusi\",\"pusu\",\"pyhä\",\"pykä\",\"pyry\",\"päin\",\"päre\",\"pöhö\",\"pöly\",\"pöpi\",\"pöpö\",\"pösö\",\"pöty\"],\n",
      "\"q\":[],\n",
      "\"r\":[\"raha\",\"rahi\",\"raja\",\"raja\",\"raju\",\"raki\",\"rako\",\"rapa\",\"rapu\",\"rasi\",\"rata\",\"ravi\",\"redi\",\"rehu\",\"reki\",\"rela\",\"rele\",\"remu\",\"repo\",\"resu\",\"reti\",\"rial\",\"riff\",\"rike\",\"riki\",\"rima\",\"ripa\",\"ripa\",\"ripe\",\"risa\",\"risa\",\"risu\",\"rita\",\"rivi\",\"rivo\",\"rock\",\"roju\",\"romu\",\"ropo\",\"rose\",\"roso\",\"rotu\",\"rove\",\"ruho\",\"ruis\",\"rujo\",\"ruko\",\"ruma\",\"runo\",\"rupi\",\"ruso\",\"rymy\",\"rysy\",\"rysä\",\"ryti\",\"rytö\",\"räkä\",\"räme\",\"rämä\",\"räsy\"],\n",
      "\"s\":[\"sade\",\"saha\",\"saju\",\"sake\",\"saku\",\"sala\",\"sala\",\"sali\",\"salo\",\"sama\",\"sama\",\"sana\",\"sane\",\"saos\",\"sara\",\"sari\",\"sata\",\"sato\",\"satu\",\"savi\",\"savo\",\"savu\",\"sees\",\"seis\",\"seka\",\"sekä\",\"semi\",\"seos\",\"setä\",\"shop\",\"show\",\"sial\",\"side\",\"siis\",\"sija\",\"sika\",\"sika\",\"siko\",\"sima\",\"sini\",\"sini\",\"sinä\",\"siro\",\"siru\",\"sisu\",\"sisä\",\"sitä\",\"sivu\",\"sivu\",\"smog\",\"sola\",\"solu\",\"soma\",\"sopa\",\"sopu\",\"sora\",\"sori\",\"sose\",\"sota\",\"sotu\",\"soul\",\"stop\",\"suht\",\"suka\",\"suku\",\"sula\",\"sulo\",\"suma\",\"sumo\",\"sumu\",\"supi\",\"suru\",\"susi\",\"suti\",\"suvi\",\"swap\",\"syke\",\"syli\",\"sysi\",\"syvä\",\"syys\",\"syys\",\"säde\",\"säen\",\"säie\",\"säkä\",\"säkä\",\"säle\",\"säly\",\"sälä\",\"sälö\",\"särö\",\"sävy\",\"sökö\",\"söpö\"],\n",
      "\"t\":[\"taas\",\"tabu\",\"tabu\",\"taco\",\"tagi\",\"tahi\",\"taho\",\"tain\",\"taju\",\"taka\",\"taka\",\"tali\",\"talo\",\"tanu\",\"taos\",\"tapa\",\"taru\",\"tase\",\"taso\",\"taus\",\"tavi\",\"tavu\",\"teak\",\"teho\",\"teko\",\"teko\",\"teku\",\"tela\",\"tele\",\"tele\",\"teli\",\"tenu\",\"tenä\",\"teos\",\"tera\",\"tere\",\"terä\",\"thai\",\"ties\",\"tihu\",\"tila\",\"tili\",\"tina\",\"tipu\",\"tisu\",\"tofu\",\"toga\",\"toka\",\"toki\",\"tola\",\"tomu\",\"tora\",\"tori\",\"tosi\",\"toti\",\"toto\",\"tovi\",\"trap\",\"trio\",\"tubi\",\"tuho\",\"tuke\",\"tuki\",\"tuku\",\"tuli\",\"tulo\",\"tuma\",\"tupa\",\"tupo\",\"turo\",\"tuta\",\"tuut\",\"tykö\",\"tyly\",\"typö\",\"tyrä\",\"tyvi\",\"tyyt\",\"tägi\",\"täky\",\"tämä\",\"täpö\",\"täry\",\"täti\",\"tönö\",\"töpö\",\"törö\",\"tööt\"],\n",
      "\"u\":[\"udar\",\"uhka\",\"uhku\",\"uhma\",\"uhri\",\"uida\",\"uija\",\"uima\",\"uiva\",\"ujua\",\"ukki\",\"ukko\",\"uksi\",\"ulko\",\"ulos\",\"umpi\",\"umpu\",\"unho\",\"uoma\",\"upea\",\"urea\",\"urho\",\"uros\",\"urpu\",\"urut\",\"usea\",\"usko\",\"ussa\",\"usva\",\"uuhi\",\"uuma\",\"uuni\",\"uuno\",\"uusi\",\"uute\"],\n",
      "\"v\":[\"vaan\",\"vadi\",\"vaha\",\"vain\",\"vaja\",\"vaje\",\"vaka\",\"vaki\",\"vako\",\"vala\",\"vale\",\"vale\",\"valo\",\"valu\",\"vana\",\"vanu\",\"vapa\",\"vara\",\"vara\",\"vari\",\"vari\",\"vasa\",\"vasa\",\"vasu\",\"vati\",\"veke\",\"veks\",\"veli\",\"vene\",\"veri\",\"vero\",\"vesa\",\"vesi\",\"veto\",\"veto\",\"veto\",\"vety\",\"viha\",\"vihi\",\"viis\",\"vika\",\"vika\",\"vika\",\"vilu\",\"vino\",\"vipu\",\"vire\",\"viri\",\"viro\",\"visa\",\"visu\",\"vita\",\"viti\",\"voda\",\"voro\",\"vähä\",\"väki\",\"väkä\",\"väli\",\"väre\",\"väri\",\"väsy\",\"vävy\"],\n",
      "\"w\":[],\n",
      "\"x\":[],\n",
      "\"y\":[\"ydin\",\"ydin\",\"yhtä\",\"yksi\",\"ylen\",\"ylin\",\"yliö\",\"ylkä\",\"ylle\",\"yllä\",\"yltä\",\"ylös\",\"ynnä\",\"yrjö\",\"yskä\"],\n",
      "\"z\":[\"zulu\"],\n"
     ]
    }
   ],
   "source": [
    "finnish_alphabet = [\"a\",\"b\",\"c\",\"d\",\"e\",\"f\",\"g\",\"h\",\"i\",\"j\",\"k\",\"l\",\"m\",\"n\",\"o\",\"p\",\"q\",\"r\",\"s\",\"t\",\"u\",\"v\",\"w\",\"x\",\"y\",\"z\"]\n",
    "\n",
    "for letter in finnish_alphabet:\n",
    "    \n",
    "    current_letters = letter\n",
    "    page_html = fecthSite(letter)\n",
    "    page_soup = soup(page_html, 'html.parser')\n",
    "    word_list = getWords(current_letters, page_soup)\n",
    "    \n",
    "    #print(current_letters, len(word_list))\n",
    "    \n",
    "    if(len(word_list) == 100):\n",
    "        current_letter_words = []\n",
    "        for let in finnish_alphabet:\n",
    "            \n",
    "            current_letters = letter + let\n",
    "            page_html = fecthSite(current_letters)\n",
    "            page_soup = soup(page_html, 'html.parser')\n",
    "            word_list = getWords(current_letters, page_soup)\n",
    "            \n",
    "            #print(current_letters, len(word_list))\n",
    "            \n",
    "            if(len(word_list) == 100):\n",
    "                    \n",
    "                for le in finnish_alphabet:\n",
    "                    \n",
    "                    cur_let = current_letters + le\n",
    "                    page_html = fecthSite(cur_let)\n",
    "                    page_soup = soup(page_html, 'html.parser')\n",
    "                    word_list = getWords(current_letters, page_soup)\n",
    "                    \n",
    "                    for word in word_list:\n",
    "                        current_letter_words.append(word)\n",
    "\n",
    "                    #print(cur_let, len(word_list))\n",
    "            else:\n",
    "                for word in word_list:\n",
    "                    current_letter_words.append(word)\n",
    "                    \n",
    "        json_string = listToJsonArray(current_letter_words, letter)\n",
    "        print(json_string)\n",
    "\n",
    "    else:\n",
    "        json_string = listToJsonArray(word_list, letter)\n",
    "        print(json_string)\n"
   ]
  },
  {
   "cell_type": "markdown",
   "metadata": {},
   "source": [
    "## Exceptions\n",
    "\n",
    "Because i do not want to spend all to much time refining this script i will not try to solve the beautiful soup problem when trying to search a url with \"å\",\"ä\" or \"ö\". These i will fill manualy\n",
    "\n",
    "Useful websites for quick formating:\n",
    "\n",
    "http://www.unit-conversion.info/texttools/remove-line-breaks/#data\n",
    "\n",
    "http://www.unit-conversion.info/texttools/replace-text/"
   ]
  },
  {
   "cell_type": "code",
   "execution_count": 9,
   "metadata": {},
   "outputs": [
    {
     "name": "stdout",
     "output_type": "stream",
     "text": [
      "k 100\n"
     ]
    }
   ],
   "source": [
    "finnish_alphabet = [\"a\",\"b\",\"c\",\"d\",\"e\",\"f\",\"g\",\"h\",\"i\",\"j\",\"k\",\"l\",\"m\",\"n\",\"o\",\"p\",\"q\",\"r\",\"s\",\"t\",\"u\",\"v\",\"w\",\"x\",\"y\",\"z\"]\n",
    "\n",
    "for letter in finnish_alphabet:\n",
    "    \n",
    "    current_letters = letter\n",
    "    page_html = fecthSite(letter)\n",
    "    page_soup = soup(page_html, 'html.parser')\n",
    "    word_list = getWords(current_letters, page_soup)\n",
    "    \n",
    "    if(len(word_list) == 100):\n",
    "        print(current_letters, len(word_list))\n",
    "    \n",
    "    if(len(word_list) == 100):\n",
    "        current_letter_words = []\n",
    "        for let in finnish_alphabet:\n",
    "            \n",
    "            current_letters = letter + let\n",
    "            page_html = fecthSite(current_letters)\n",
    "            page_soup = soup(page_html, 'html.parser')\n",
    "            word_list = getWords(current_letters, page_soup)\n",
    "            \n",
    "            if(len(word_list) == 100):\n",
    "                print(current_letters, len(word_list))\n",
    "            \n",
    "            if(len(word_list) == 100):\n",
    "                    \n",
    "                for le in finnish_alphabet:\n",
    "                    \n",
    "                    cur_let = current_letters + le\n",
    "                    page_html = fecthSite(cur_let)\n",
    "                    page_soup = soup(page_html, 'html.parser')\n",
    "                    word_list = getWords(current_letters, page_soup)\n",
    "                    \n",
    "                    for word in word_list:\n",
    "                        current_letter_words.append(word)\n",
    "                    if(len(word_list) == 100):\n",
    "                        print(cur_let, len(word_list))\n",
    "            else:\n",
    "                for word in word_list:\n",
    "                    current_letter_words.append(word)\n",
    "                    \n",
    "        json_string = listToJsonArray(current_letter_words, letter)\n",
    "        #print(json_string)\n",
    "\n",
    "    else:\n",
    "        json_string = listToJsonArray(word_list, letter)\n",
    "        #print(json_string)\n"
   ]
  },
  {
   "cell_type": "markdown",
   "metadata": {},
   "source": [
    "### The list above is all the exceptions that need to be checked"
   ]
  }
 ],
 "metadata": {
  "kernelspec": {
   "display_name": "Python 3",
   "language": "python",
   "name": "python3"
  },
  "language_info": {
   "codemirror_mode": {
    "name": "ipython",
    "version": 3
   },
   "file_extension": ".py",
   "mimetype": "text/x-python",
   "name": "python",
   "nbconvert_exporter": "python",
   "pygments_lexer": "ipython3",
   "version": "3.7.3"
  }
 },
 "nbformat": 4,
 "nbformat_minor": 2
}
