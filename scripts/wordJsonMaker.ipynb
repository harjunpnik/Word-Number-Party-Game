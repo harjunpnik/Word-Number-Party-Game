{
 "cells": [
  {
   "cell_type": "markdown",
   "metadata": {},
   "source": [
    "# Word Json Maker\n",
    "\n",
    "This script will make a json file including all the words with certain amount of numbers letters.\n",
    "\n",
    "This script scrapes the site : http://www.findallwords.com/wordfinder_index_fi.php?unumber=8&umaxl=equal&utitle=Sanat%208%20kirjainta"
   ]
  },
  {
   "cell_type": "code",
   "execution_count": 1,
   "metadata": {},
   "outputs": [],
   "source": [
    "import numpy as np\n",
    "import bs4\n",
    "from urllib.request import urlopen as uReq\n",
    "from bs4 import BeautifulSoup as soup\n",
    "import re"
   ]
  },
  {
   "cell_type": "code",
   "execution_count": 2,
   "metadata": {},
   "outputs": [],
   "source": [
    "def fecthSite(letter):\n",
    "    '''Fetches find all words site. Takes in a parameter letter that defines what page it fetches'''\n",
    "    base_word_url = \"http://www.findallwords.com/wordfinder_index_fi.php?ulast=&umaxl=equal&unumber=5&umatch=&ucontain=&ufname=&ufirst=\"\n",
    "    uClient = uReq( base_word_url + str(letter))\n",
    "    page_html = uClient.read()\n",
    "    uClient.close()\n",
    "    return page_html"
   ]
  },
  {
   "cell_type": "code",
   "execution_count": 3,
   "metadata": {},
   "outputs": [],
   "source": [
    "page_html = fecthSite(\"\")\n",
    "#page_html\n",
    "page_soup = soup(page_html, 'html.parser')\n",
    "#page_soup"
   ]
  },
  {
   "cell_type": "code",
   "execution_count": 4,
   "metadata": {},
   "outputs": [
    {
     "data": {
      "text/plain": [
       "[<p><h2>5 kirjaimet:</h2><font size=\"6\">aaloe<br>aalto<br>aamen<br>aaria<br>aarre<br>aatos<br>aatra<br>aatto<br>ahava<br>ahdas<br>ahdin<br>ahkio<br>ahmia<br>ahnas<br>ahtaa<br>ahven<br>aidas<br>aihio<br>aijai<br>aikoa<br>aines<br/>ainoa<br/>ainut<br/>aioli<br/>airut<br/>aisti<br/>aitio<br/>aitoa<br/>aitta<br/>aivan<br/>aivot<br/>ajaja<br/>ajelu<br/>ajuri<br/>akana<br/>aktio<br/>alati<br/>alava<br/>aleta<br/>alias<br/>alibi<br/>alkaa<br/>alkio<br/>allas<br/>aloke<br/>alppi<br/>altis<br/>altto<br/>aluke<br/>aluna<br/>ambra<br/>ameba<br/>ammis<br/>ammua<br/>ammus<br/>ammuu<br/>ampua<br/>ankea<br/>ankka<br/>annos<br/>anodi<br/>anoja<br/>ansas<br/>ansio<br/>antaa<br/>apaja<br/>apeus<br/>apila<br/>apina<br/>apnea<br/>appaa<br/>apuri<br/>arabi<br/>arava<br/>argon<br/>arina<br/>arkki<br/>arkki<br/>arkki<br/>arkku<br/>armas<br/>aromi<br/>arpoa<br/>arvio<br/>asema<br/>asemo<br/>asete<br/>askar<br/>askel<br/>astia<br/>astin<br/>astma<br/>astua<br/>asuin<br/>asuja<br/>asuma<br/>atari<br/>atlas<br/>atomi<br/>aueta<br/></br></br></br></br></br></br></br></br></br></br></br></br></br></br></br></br></br></br></br></br></font><br/>Enintään 100 sanaa<br/><br/>\n",
       " </p>]"
      ]
     },
     "execution_count": 4,
     "metadata": {},
     "output_type": "execute_result"
    }
   ],
   "source": [
    "word_component = page_soup.find(\"table\").find(\"table\").select(\"td > p:nth-of-type(1)\")\n",
    "word_component"
   ]
  },
  {
   "cell_type": "code",
   "execution_count": 5,
   "metadata": {},
   "outputs": [],
   "source": [
    "finnish_alphabet = [\"a\",\"b\",\"c\",\"d\",\"e\",\"f\",\"g\",\"h\",\"i\",\"j\",\"k\",\"l\",\"m\",\"n\",\"o\",\"p\",\"q\",\"r\",\"s\",\"t\",\"u\",\"v\",\"w\",\"x\",\"y\",\"z\",\"å\",\"ä\",\"ö\"]"
   ]
  },
  {
   "cell_type": "code",
   "execution_count": 6,
   "metadata": {},
   "outputs": [],
   "source": [
    "def getWords(current_letters, site):\n",
    "    word_component = site.find(\"table\").find(\"table\").select(\"td > p:nth-of-type(1)\")\n",
    "\n",
    "    all_words = re.findall(\"(?<=</strong>)(.*?)(?=<)\", str(word_component))\n",
    "    all_words = ['{letter}{0}'.format(i, letter = current_letters) for i in all_words]\n",
    "    return all_words"
   ]
  },
  {
   "cell_type": "code",
   "execution_count": 7,
   "metadata": {},
   "outputs": [],
   "source": [
    "def listToJsonArray(word_List, key):\n",
    "    json_array = '\"{letter}\":['.format(letter = key)\n",
    "    \n",
    "    i = 0\n",
    "    for word in word_List:\n",
    "        i = i + 1 \n",
    "        if(len(word_List) == i):\n",
    "            json_array = json_array + '\"{wrd}\"'.format(wrd = word) \n",
    "        else:\n",
    "            json_array = json_array + '\"{wrd}\",'.format(wrd = word)\n",
    "    json_array = json_array + '],'\n",
    "        \n",
    "    return json_array"
   ]
  },
  {
   "cell_type": "code",
   "execution_count": null,
   "metadata": {},
   "outputs": [
    {
     "name": "stdout",
     "output_type": "stream",
     "text": [
      "\"a\":[\"aaloe\",\"aalto\",\"aamen\",\"aaria\",\"aarre\",\"aatos\",\"aatra\",\"aatto\",\"ahava\",\"ahdas\",\"ahdin\",\"ahkio\",\"ahmia\",\"ahnas\",\"ahtaa\",\"ahven\",\"aidas\",\"aihio\",\"aijai\",\"aikoa\",\"aines\",\"ainoa\",\"ainut\",\"aioli\",\"airut\",\"aisti\",\"aitio\",\"aitoa\",\"aitta\",\"aivan\",\"aivot\",\"ajaja\",\"ajelu\",\"ajuri\",\"akana\",\"aktio\",\"alati\",\"alava\",\"aleta\",\"alias\",\"alibi\",\"alkaa\",\"alkio\",\"allas\",\"aloke\",\"alppi\",\"altis\",\"altto\",\"aluke\",\"aluna\",\"ambra\",\"ameba\",\"ammis\",\"ammua\",\"ammus\",\"ammuu\",\"ampua\",\"ankea\",\"ankka\",\"annos\",\"anodi\",\"anoja\",\"ansas\",\"ansio\",\"antaa\",\"apaja\",\"apeus\",\"apila\",\"apina\",\"apnea\",\"appaa\",\"apuri\",\"arabi\",\"arava\",\"argon\",\"arina\",\"arkki\",\"arkki\",\"arkki\",\"arkku\",\"armas\",\"aromi\",\"arpoa\",\"arvio\",\"asema\",\"asemo\",\"asete\",\"askar\",\"askel\",\"astia\",\"astin\",\"astma\",\"astua\",\"asuin\",\"asuja\",\"asuma\",\"atari\",\"atlas\",\"atomi\",\"aueta\",\"aukea\",\"aukio\",\"aukko\",\"aukoa\",\"aulio\",\"aulis\",\"aunus\",\"aussi\",\"autio\",\"avain\",\"avara\",\"avata\",\"avaus\",\"avoin\",\"azeri\"],\n",
      "\"b\":[\"baana\",\"baari\",\"baari\",\"balsa\",\"bambu\",\"banjo\",\"bantu\",\"barbi\",\"bardi\",\"baski\",\"basso\",\"baudi\",\"bebee\",\"bebop\",\"beesi\",\"beeta\",\"beibi\",\"beige\",\"bensa\",\"bidee\",\"biisi\",\"bilsa\",\"bingo\",\"bitti\",\"blini\",\"blues\",\"boksi\",\"boksi\",\"bongo\",\"bonus\",\"booli\",\"boomi\",\"boori\",\"bravo\",\"bromi\",\"bukee\",\"bulla\",\"bussi\",\"buumi\",\"buuri\",\"bygga\",\"bändi\",\"bänet\",\"bänks\"],\n",
      "\"c\":[\"chili\",\"chips\",\"civis\",\"coupe\",\"crack\",\"crêpe\",\"curry\"],\n",
      "\"d\":[\"daami\",\"dandy\",\"datsa\",\"debet\",\"deeku\",\"dekki\",\"delta\",\"depis\",\"diiva\",\"diodi\",\"dippi\",\"disko\",\"dogmi\",\"donna\",\"dorka\",\"doula\",\"durra\",\"duuma\",\"duuni\",\"duuri\",\"dyyni\"],\n",
      "\"e\":[\"edetä\",\"eeden\",\"eepos\",\"eesti\",\"eheys\",\"ehken\",\"ehtiä\",\"ehtoo\",\"ehtyä\",\"eilen\",\"eines\",\"eksyä\",\"ellei\",\"eloon\",\"elpyä\",\"eläin\",\"eläjä\",\"eläke\",\"elämä\",\"elävä\",\"emali\",\"empiä\",\"enetä\",\"ennen\",\"ensin\",\"entäs\",\"entää\",\"epeli\",\"epäys\",\"erite\",\"eritä\",\"eroon\",\"erota\",\"esiin\",\"esine\",\"esite\",\"essee\",\"estin\",\"estyä\",\"estää\",\"etana\",\"eteen\",\"etelä\",\"etevä\",\"etsin\",\"etsiä\",\"etuus\",\"etydi\",\"etäis\",\"eukko\",\"evätä\"],\n",
      "\"f\":[\"faasi\",\"faija\",\"fakki\",\"faksi\",\"fakta\",\"farao\",\"farmi\",\"fatsi\",\"fauna\",\"fauni\",\"femto\",\"ferri\",\"ferro\",\"fiini\",\"fikka\",\"fiksu\",\"filee\",\"filmi\",\"finis\",\"finni\",\"firma\",\"fobia\",\"fokka\",\"foksi\",\"fokus\",\"folio\",\"formu\",\"forte\",\"fudia\",\"fudis\",\"fudut\",\"fuksi\",\"fusku\",\"futia\",\"futis\",\"fuuga\",\"fylli\",\"fääri\",\"fööni\"],\n",
      "\"g\":[\"gaala\",\"gabro\",\"gaeli\",\"gamma\",\"gasti\",\"geeli\",\"geeni\",\"geisa\",\"genre\",\"getto\",\"gimma\",\"glögi\",\"gongi\",\"gouda\",\"gradu\",\"grape\",\"grogi\",\"guano\",\"guava\",\"gängi\"],\n",
      "\"h\":[\"haamu\",\"haamu\",\"haapa\",\"haara\",\"haara\",\"haava\",\"haava\",\"haave\",\"haavi\",\"hahlo\",\"hahmo\",\"haiku\",\"haiku\",\"haili\",\"haima\",\"haisu\",\"haite\",\"hakea\",\"hakku\",\"halia\",\"halju\",\"halki\",\"halko\",\"halla\",\"halli\",\"halli\",\"halma\",\"halme\",\"haloo\",\"halpa\",\"halva\",\"handu\",\"hanhi\",\"hanka\",\"hanke\",\"hanki\",\"hanko\",\"hansa\",\"hanti\",\"hapan\",\"happi\",\"happo\",\"hapro\",\"hapsi\",\"hapsu\",\"harha\",\"harja\",\"harju\",\"harme\",\"harmi\",\"haroa\",\"harri\",\"harso\",\"harsu\",\"harus\",\"harva\",\"hasis\",\"hassi\",\"hassu\",\"hattu\",\"haude\",\"hauis\",\"hauki\",\"hauli\",\"haura\",\"hauta\",\"hauva\",\"havas\",\"heavy\",\"hefta\",\"hehku\",\"hehto\",\"heila\",\"heili\",\"heimo\",\"heinä\",\"heisi\",\"heite\",\"heleä\",\"helke\",\"hella\",\"helle\",\"hellä\",\"helma\",\"helmi\",\"helpi\",\"helve\",\"hemmo\",\"henki\",\"henna\",\"henry\",\"hento\",\"heppa\",\"heppu\",\"hereä\",\"herja\",\"hermo\",\"herne\",\"herra\",\"herua\",\"hetiö\",\"hetki\",\"hevin\",\"hidas\",\"hieho\",\"hieno\",\"hiesu\",\"hieta\",\"hihna\",\"hiili\",\"hiiop\",\"hiiri\",\"hiisi\",\"hiiva\",\"hikka\",\"hilla\",\"hillo\",\"hilse\",\"hilut\",\"hindi\",\"hindu\",\"hinku\",\"hinta\",\"hioke\",\"hiomo\",\"hiota\",\"hipat\",\"hipiä\",\"hipoa\",\"hippa\",\"hippi\",\"hippu\",\"hirmu\",\"hirmu\",\"hirsi\",\"hirvi\",\"hissa\",\"hissi\",\"hitsi\",\"hitsi\",\"hitti\",\"hitto\",\"hiuka\",\"hiven\",\"hobby\",\"hohde\",\"hohka\",\"hohoi\",\"hohto\",\"hoide\",\"hoito\",\"hoiva\",\"hokea\",\"holli\",\"holvi\",\"homma\",\"honka\",\"hoopo\",\"hopea\",\"hoppu\",\"hormi\",\"horna\",\"horre\",\"hosua\",\"houre\",\"house\",\"huhta\",\"huilu\",\"huima\",\"huivi\",\"hukka\",\"hullu\",\"humma\",\"humus\",\"hunni\",\"huntu\",\"huoku\",\"huoli\",\"huone\",\"huono\",\"huopa\",\"huora\",\"huovi\",\"huppu\",\"hupsu\",\"hurja\",\"hurma\",\"hurme\",\"hurri\",\"hutsu\",\"huttu\",\"huuli\",\"huuma\",\"huume\",\"huuri\",\"huuru\",\"huusi\",\"huuti\",\"huuto\",\"hyhmä\",\"hylje\",\"hylky\",\"hylly\",\"hylsy\",\"hymen\",\"hymiö\",\"hymni\",\"hyper\",\"hyppy\",\"hyrrä\",\"hytti\",\"hyvin\",\"hyyde\",\"hyytö\",\"hyöky\",\"hyöty\",\"hyötö\"],\n",
      "\"i\":[\"icing\",\"idoli\",\"ihana\",\"iibis\",\"iikka\",\"iiris\",\"ikinä\",\"ikoni\",\"ikänä\",\"ikävä\",\"ikäys\",\"ikään\",\"ilkeä\",\"ilkiö\",\"ilman\",\"ilmiö\",\"iltti\",\"ilves\",\"image\",\"imago\",\"imelä\",\"immyt\",\"imuke\",\"imuri\",\"ininä\",\"input\",\"inssi\",\"intos\",\"intro\",\"intti\",\"ipana\",\"irviä\",\"iskeä\",\"islam\",\"isota\",\"isota\",\"isous\",\"istua\",\"isyys\",\"itara\",\"itkeä\",\"ivata\",\"iäksi\",\"iäkäs\",\"iätön\"],\n",
      "\"j\":[\"jaaha\",\"jaala\",\"jahka\",\"jahti\",\"jahti\",\"jakaa\",\"jakki\",\"jakki\",\"jakku\",\"jakso\",\"jalan\",\"jalas\",\"jalka\",\"jalus\",\"jambi\",\"jamit\",\"jannu\",\"jaoke\",\"japsi\",\"jarru\",\"jatke\",\"jatko\",\"jatsi\",\"jauhe\",\"jauho\",\"jekku\",\"jemma\",\"jengi\",\"jenka\",\"jeppe\",\"jermu\",\"jetti\",\"jiddi\",\"jiiri\",\"jippo\",\"johde\",\"johto\",\"joiku\",\"jokin\",\"jolla\",\"jolma\",\"jonne\",\"jooga\",\"joogi\",\"jooli\",\"jospa\",\"joten\",\"jotos\",\"jotta\",\"jotta\",\"jouhi\",\"joule\",\"joulu\",\"jousi\",\"juhla\",\"juhta\",\"jukka\",\"jukra\",\"julki\",\"julli\",\"julma\",\"jumbo\",\"junnu\",\"juoda\",\"juoma\",\"juomu\",\"juoni\",\"juopa\",\"juoru\",\"juote\",\"juova\",\"juppi\",\"juroa\",\"jurri\",\"jussi\",\"jussi\",\"jutaa\",\"jutku\",\"juttu\",\"juuri\",\"juuri\",\"jylhä\",\"jyske\",\"jytke\",\"jytää\"],\n",
      "\"k\":[\"kaade\",\"kaali\",\"kaaos\",\"kaapu\",\"kaara\",\"kaari\",\"kaari\",\"kaaso\",\"kaasu\",\"kaato\",\"kaava\",\"kahjo\",\"kahju\",\"kahle\",\"kahta\",\"kahva\",\"kahvi\",\"kaide\",\"kaivo\",\"kaita\",\"kaita\",\"kaira\",\"kaira\",\"kaino\",\"kaima\",\"kaiku\",\"kaiho\",\"kaihi\",\"kaivu\",\"kajal\",\"kakka\",\"kakku\",\"kakru\",\"kaksi\",\"kalhu\",\"kalja\",\"kalju\",\"kalke\",\"kalla\",\"kalle\",\"kallo\",\"kalma\",\"kalmo\",\"kalpa\",\"kalsa\",\"kalvo\",\"kamee\",\"kammo\",\"kampa\",\"kampe\",\"kampi\",\"kandi\",\"kanki\",\"kanna\",\"kanna\",\"kanne\",\"kannu\",\"kansa\",\"kansi\",\"kanta\",\"kanto\",\"kanto\",\"kapea\",\"kappa\",\"kappa\",\"kappa\",\"kappi\",\"kapse\",\"kaput\",\"karhe\",\"karhi\",\"karho\",\"karhu\",\"karja\",\"karju\",\"karku\",\"karma\",\"karmi\",\"karri\",\"karsi\",\"karva\",\"karve\",\"kaski\",\"kasko\",\"kasku\",\"kassa\",\"kassi\",\"kaste\",\"kasti\",\"kasti\",\"kasvi\",\"kasvo\",\"kasvu\",\"katka\",\"katki\",\"katko\",\"katko\",\"katku\",\"katos\",\"katse\",\"katti\",\"katto\",\"katua\",\"katve\",\"kauan\",\"kauas\",\"kauha\",\"kauhu\",\"kauko\",\"kaula\",\"kauna\",\"kaura\",\"kausi\",\"kavio\",\"kebab\",\"kehiä\",\"kehno\",\"kehnä\",\"kehrä\",\"kehto\",\"kehua\",\"kehys\",\"keija\",\"keiju\",\"keila\",\"keino\",\"keino\",\"keinu\",\"keiso\",\"kekri\",\"keksi\",\"keksi\",\"kelju\",\"kello\",\"kelmi\",\"kelmu\",\"kelpo\",\"kelta\",\"kemia\",\"kemut\",\"kendo\",\"kenkä\",\"kenno\",\"kepeä\",\"keppi\",\"kerho\",\"keriä\",\"kerma\",\"kerni\",\"kersa\",\"kerta\",\"kerto\",\"keruu\",\"kesiä\",\"keski\",\"kessu\",\"kessu\",\"kesti\",\"kesto\",\"ketju\",\"ketku\",\"ketsi\",\"ketto\",\"kettu\",\"keula\",\"keveä\",\"kevyt\",\"kevät\",\"khaki\",\"khmer\",\"kieli\",\"kielo\",\"kiero\",\"kierä\",\"kihti\",\"kiila\",\"kiilu\",\"kiima\",\"kiina\",\"kiire\",\"kiire\",\"kiiri\",\"kiiru\",\"kiisu\",\"kiito\",\"kiivi\",\"kikka\",\"kilju\",\"kilke\",\"kilpa\",\"kilpi\",\"kilsa\",\"kilta\",\"kimeä\",\"kimma\",\"kimpi\",\"kingi\",\"kinos\",\"kinua\",\"kipeä\",\"kippi\",\"kippo\",\"kipsa\",\"kipsi\",\"kireä\",\"kiriä\",\"kirja\",\"kirje\",\"kirjo\",\"kirnu\",\"kirsi\",\"kirsu\",\"kirva\",\"kiska\",\"kisko\",\"kissa\",\"kitka\",\"kitku\",\"kitsi\",\"kitsi\",\"kitti\",\"kitua\",\"kiuas\",\"kiulu\",\"kiuru\",\"kiusa\",\"kives\",\"klani\",\"klapi\",\"klubi\",\"koala\",\"kobra\",\"kohde\",\"kohta\",\"kohta\",\"kohti\",\"kohtu\",\"kohva\",\"koipi\",\"koira\",\"koisa\",\"koiso\",\"koite\",\"koivu\",\"kokea\",\"kokka\",\"kokki\",\"kokki\",\"kokko\",\"kokko\",\"koksi\",\"kolea\",\"kolho\",\"kolhu\",\"kolja\",\"kolke\",\"kolli\",\"kolli\",\"kollo\",\"kolme\",\"kolmi\",\"koloa\",\"kolvi\",\"komea\",\"kompa\",\"konki\",\"konna\",\"konsa\",\"kontu\",\"koodi\",\"kooma\",\"koota\",\"kopea\",\"kopio\",\"kopla\",\"koppa\",\"koppi\",\"koppi\",\"kopra\",\"kopse\",\"kopsu\",\"kopsu\",\"kopti\",\"korea\",\"korea\",\"koris\",\"korko\",\"korni\",\"korpi\",\"korsi\",\"korsu\",\"korte\",\"korva\",\"korvo\",\"koser\",\"kosia\",\"koska\",\"koski\",\"koste\",\"kosto\",\"kotia\",\"kotka\",\"kotoa\",\"kotsa\",\"kotva\",\"kouho\",\"koulu\",\"koura\",\"kouru\",\"kovaa\",\"kovin\",\"kovis\",\"krapu\",\"krimi\",\"kromi\",\"kränä\",\"kudin\",\"kudos\",\"kuhmu\",\"kuhun\",\"kuilu\",\"kuiri\",\"kuitu\",\"kuiva\",\"kukin\",\"kukka\",\"kukko\",\"kukku\",\"kuksa\",\"kulho\",\"kulju\",\"kulku\",\"kulli\",\"kulma\",\"kulta\",\"kulti\",\"kulua\",\"kumea\",\"kumma\",\"kummi\",\"kumpi\",\"kumpu\",\"kundi\",\"kunne\",\"kunpa\",\"kunta\",\"kunto\",\"kuoha\",\"kuohu\",\"kuola\",\"kuolo\",\"kuoma\",\"kuomu\",\"kuona\",\"kuono\",\"kuore\",\"kuori\",\"kuori\",\"kuoro\",\"kuosi\",\"kuovi\",\"kupla\",\"kuppa\",\"kuppi\",\"kupro\",\"kupru\",\"kurdi\",\"kurho\",\"kurin\",\"kurja\",\"kurki\",\"kurko\",\"kuroa\",\"kurra\",\"kurre\",\"kurri\",\"kurva\",\"kurvi\",\"kuski\",\"kussa\",\"kusta\",\"kusta\",\"kutea\",\"kuten\",\"kutka\",\"kutoa\",\"kutsu\",\"kuttu\",\"kuula\",\"kuulo\",\"kuulu\",\"kuuma\",\"kuume\",\"kuura\",\"kuuri\",\"kuuri\",\"kuuro\",\"kuuro\",\"kuusi\",\"kuusi\",\"kuvas\",\"kuvio\",\"kvasi\",\"kyetä\",\"kyhmy\",\"kylki\",\"kyllä\",\"kylmä\",\"kylpy\",\"kylvö\",\"kymri\",\"kyniä\",\"kynsi\",\"kynte\",\"kyntö\",\"kypsi\",\"kypsä\",\"kyrpä\",\"kyrsä\",\"kyssä\",\"kysta\",\"kystä\",\"kysyä\",\"kyteä\",\"kytis\",\"kytky\",\"kyttä\",\"kyylä\",\"kyyry\",\"kyyti\",\"kyömy\"],\n"
     ]
    }
   ],
   "source": [
    "finnish_alphabet = [\"a\",\"b\",\"c\",\"d\",\"e\",\"f\",\"g\",\"h\",\"i\",\"j\",\"k\",\"l\",\"m\",\"n\",\"o\",\"p\",\"q\",\"r\",\"s\",\"t\",\"u\",\"v\",\"w\",\"x\",\"y\",\"z\"]\n",
    "\n",
    "for letter in finnish_alphabet:\n",
    "    \n",
    "    current_letters = letter\n",
    "    page_html = fecthSite(letter)\n",
    "    page_soup = soup(page_html, 'html.parser')\n",
    "    word_list = getWords(current_letters, page_soup)\n",
    "    \n",
    "    #print(current_letters, len(word_list))\n",
    "    \n",
    "    if(len(word_list) == 100):\n",
    "        current_letter_words = []\n",
    "        for let in finnish_alphabet:\n",
    "            \n",
    "            current_letters = letter + let\n",
    "            page_html = fecthSite(current_letters)\n",
    "            page_soup = soup(page_html, 'html.parser')\n",
    "            word_list = getWords(current_letters, page_soup)\n",
    "            \n",
    "            #print(current_letters, len(word_list))\n",
    "            \n",
    "            if(len(word_list) == 100):\n",
    "                    \n",
    "                for le in finnish_alphabet:\n",
    "                    \n",
    "                    cur_let = current_letters + le\n",
    "                    page_html = fecthSite(cur_let)\n",
    "                    page_soup = soup(page_html, 'html.parser')\n",
    "                    word_list = getWords(cur_let, page_soup)\n",
    "                    \n",
    "                    for word in word_list:\n",
    "                        current_letter_words.append(word)\n",
    "\n",
    "                    #print(cur_let, len(word_list))\n",
    "            else:\n",
    "                for word in word_list:\n",
    "                    current_letter_words.append(word)\n",
    "                    \n",
    "        json_string = listToJsonArray(current_letter_words, letter)\n",
    "        print(json_string)\n",
    "\n",
    "    else:\n",
    "        json_string = listToJsonArray(word_list, letter)\n",
    "        print(json_string)\n"
   ]
  },
  {
   "cell_type": "markdown",
   "metadata": {},
   "source": [
    "## Exceptions\n",
    "\n",
    "Because i do not want to spend all to much time refining this script i will not try to solve the beautiful soup problem when trying to search a url with \"å\",\"ä\" or \"ö\". These i will fill manualy\n",
    "\n",
    "Useful websites for quick formating:\n",
    "\n",
    "http://www.unit-conversion.info/texttools/remove-line-breaks/#data\n",
    "\n",
    "http://www.unit-conversion.info/texttools/replace-text/"
   ]
  },
  {
   "cell_type": "code",
   "execution_count": null,
   "metadata": {},
   "outputs": [],
   "source": [
    "finnish_alphabet = [\"a\",\"b\",\"c\",\"d\",\"e\",\"f\",\"g\",\"h\",\"i\",\"j\",\"k\",\"l\",\"m\",\"n\",\"o\",\"p\",\"q\",\"r\",\"s\",\"t\",\"u\",\"v\",\"w\",\"x\",\"y\",\"z\"]\n",
    "\n",
    "for letter in finnish_alphabet:\n",
    "    \n",
    "    current_letters = letter\n",
    "    page_html = fecthSite(letter)\n",
    "    page_soup = soup(page_html, 'html.parser')\n",
    "    word_list = getWords(current_letters, page_soup)\n",
    "    \n",
    "    if(len(word_list) == 100):\n",
    "        print(current_letters, len(word_list))\n",
    "    \n",
    "    if(len(word_list) == 100):\n",
    "        current_letter_words = []\n",
    "        for let in finnish_alphabet:\n",
    "            \n",
    "            current_letters = letter + let\n",
    "            page_html = fecthSite(current_letters)\n",
    "            page_soup = soup(page_html, 'html.parser')\n",
    "            word_list = getWords(current_letters, page_soup)\n",
    "            \n",
    "            if(len(word_list) == 100):\n",
    "                print(current_letters, len(word_list))\n",
    "            \n",
    "            if(len(word_list) == 100):\n",
    "                    \n",
    "                for le in finnish_alphabet:\n",
    "                    \n",
    "                    cur_let = current_letters + le\n",
    "                    page_html = fecthSite(cur_let)\n",
    "                    page_soup = soup(page_html, 'html.parser')\n",
    "                    word_list = getWords(current_letters, page_soup)\n",
    "                    \n",
    "                    for word in word_list:\n",
    "                        current_letter_words.append(word)\n",
    "                    if(len(word_list) == 100):\n",
    "                        print(cur_let, len(word_list))\n",
    "            else:\n",
    "                for word in word_list:\n",
    "                    current_letter_words.append(word)\n",
    "                    \n",
    "        json_string = listToJsonArray(current_letter_words, letter)\n",
    "        #print(json_string)\n",
    "\n",
    "    else:\n",
    "        json_string = listToJsonArray(word_list, letter)\n",
    "        #print(json_string)\n"
   ]
  },
  {
   "cell_type": "markdown",
   "metadata": {},
   "source": [
    "### The list above is all the exceptions that need to be checked"
   ]
  }
 ],
 "metadata": {
  "kernelspec": {
   "display_name": "Python 3",
   "language": "python",
   "name": "python3"
  },
  "language_info": {
   "codemirror_mode": {
    "name": "ipython",
    "version": 3
   },
   "file_extension": ".py",
   "mimetype": "text/x-python",
   "name": "python",
   "nbconvert_exporter": "python",
   "pygments_lexer": "ipython3",
   "version": "3.7.3"
  }
 },
 "nbformat": 4,
 "nbformat_minor": 2
}
